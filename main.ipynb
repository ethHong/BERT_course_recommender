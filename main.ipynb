{
 "cells": [
  {
   "cell_type": "code",
   "execution_count": 1,
   "metadata": {},
   "outputs": [],
   "source": [
    "import pandas as pd\n",
    "import json\n",
    "from utils import *\n",
    "from ast import literal_eval"
   ]
  },
  {
   "cell_type": "code",
   "execution_count": 4,
   "metadata": {},
   "outputs": [],
   "source": [
    "with open(\"data/joblists.txt\") as file:\n",
    "    lines = file.readlines()\n",
    "    jobs = [line.rstrip() for line in lines]"
   ]
  },
  {
   "cell_type": "code",
   "execution_count": 5,
   "metadata": {},
   "outputs": [],
   "source": [
    "DB = pd.read_csv(\"data/JD_merged_final.csv\").dropna()\n",
    "DB.details = DB.details.apply(lambda x: literal_eval(x))\n",
    "DB.tokenized = DB.tokenized.apply(lambda x: literal_eval(x))\n",
    "DB = DB.drop_duplicates([\"description\"])\n",
    "data = pd.read_csv(\"data/processed_courses_data.csv\")"
   ]
  },
  {
   "cell_type": "code",
   "execution_count": 50,
   "metadata": {},
   "outputs": [],
   "source": [
    "from tqdm import tqdm\n",
    "\n",
    "\n",
    "def get_recommendation(DB, data, jobname, by = \"course_info\"):\n",
    "    JD_sentences = query_jds(DB, jobname).description.values\n",
    "    DB[\"Query_Score\"] = DB.description.progress_apply(lambda x : compare_sentence(x, jobname))\n",
    "    target = DB.sort_values(by = \"Query_Score\",ascending= False)[:10]\n",
    "    JD_sentences = target.description.values\n",
    "    data[\"Recommendation_score\"] = data[by].progress_apply(lambda x : compare_sentence(x, JD_sentences))\n",
    "    return data.sort_values(by = \"Recommendation_score\",ascending= False)[:26][[\"Course_Name\", \"course_info\", \"syllabus\", \"div\", \"Recommendation_score\"]]"
   ]
  },
  {
   "cell_type": "code",
   "execution_count": 79,
   "metadata": {},
   "outputs": [
    {
     "name": "stdout",
     "output_type": "stream",
     "text": [
      "Recommendation for Strategy Manager\n"
     ]
    },
    {
     "name": "stderr",
     "output_type": "stream",
     "text": [
      "/Users/HongSukhyun/.local/share/virtualenvs/Course_Recommendation-PHX7-Aig/lib/python3.9/site-packages/sklearn/utils/deprecation.py:87: FutureWarning: Function get_feature_names is deprecated; get_feature_names is deprecated in 1.0 and will be removed in 1.2. Please use get_feature_names_out instead.\n",
      "  warnings.warn(msg, category=FutureWarning)\n",
      "100%|██████████| 1816/1816 [02:18<00:00, 13.16it/s]\n",
      "100%|██████████| 702/702 [21:14<00:00,  1.82s/it]   \n"
     ]
    },
    {
     "name": "stdout",
     "output_type": "stream",
     "text": [
      "exporting...\n",
      "Recommendation for Chief Marketing Officer\n"
     ]
    },
    {
     "name": "stderr",
     "output_type": "stream",
     "text": [
      "/Users/HongSukhyun/.local/share/virtualenvs/Course_Recommendation-PHX7-Aig/lib/python3.9/site-packages/sklearn/utils/deprecation.py:87: FutureWarning: Function get_feature_names is deprecated; get_feature_names is deprecated in 1.0 and will be removed in 1.2. Please use get_feature_names_out instead.\n",
      "  warnings.warn(msg, category=FutureWarning)\n",
      "100%|██████████| 1816/1816 [05:21<00:00,  5.65it/s]  \n",
      "100%|██████████| 702/702 [10:04<00:00,  1.16it/s] \n"
     ]
    },
    {
     "name": "stdout",
     "output_type": "stream",
     "text": [
      "exporting...\n",
      "Recommendation for CTO (Chief technology officer)\n"
     ]
    },
    {
     "name": "stderr",
     "output_type": "stream",
     "text": [
      "/Users/HongSukhyun/.local/share/virtualenvs/Course_Recommendation-PHX7-Aig/lib/python3.9/site-packages/sklearn/utils/deprecation.py:87: FutureWarning: Function get_feature_names is deprecated; get_feature_names is deprecated in 1.0 and will be removed in 1.2. Please use get_feature_names_out instead.\n",
      "  warnings.warn(msg, category=FutureWarning)\n",
      "100%|██████████| 1816/1816 [02:20<00:00, 12.93it/s]\n",
      "100%|██████████| 702/702 [08:40<00:00,  1.35it/s]\n"
     ]
    },
    {
     "name": "stdout",
     "output_type": "stream",
     "text": [
      "exporting...\n",
      "Recommendation for Brand Strategy Planner\n"
     ]
    },
    {
     "name": "stderr",
     "output_type": "stream",
     "text": [
      "/Users/HongSukhyun/.local/share/virtualenvs/Course_Recommendation-PHX7-Aig/lib/python3.9/site-packages/sklearn/utils/deprecation.py:87: FutureWarning: Function get_feature_names is deprecated; get_feature_names is deprecated in 1.0 and will be removed in 1.2. Please use get_feature_names_out instead.\n",
      "  warnings.warn(msg, category=FutureWarning)\n",
      "100%|██████████| 1816/1816 [02:22<00:00, 12.78it/s]\n",
      "100%|██████████| 702/702 [08:40<00:00,  1.35it/s]"
     ]
    },
    {
     "name": "stdout",
     "output_type": "stream",
     "text": [
      "exporting...\n"
     ]
    },
    {
     "name": "stderr",
     "output_type": "stream",
     "text": [
      "\n"
     ]
    }
   ],
   "source": [
    "for i in jobs:\n",
    "    print (\"Recommendation for {}\".format(i))\n",
    "    recommendation = get_recommendation(DB, data, i)\n",
    "    print(\"exporting...\")\n",
    "    recommendation.to_excel(\"output/{}_course_info.xlsx\".format([i.replace(\"/\", \"_\").split(\"(\")[0].strip() if (\"(\") in i else i.replace(\"/\", \"_\")][0]), index=False)"
   ]
  },
  {
   "cell_type": "code",
   "execution_count": null,
   "metadata": {},
   "outputs": [],
   "source": [
    "for i in jobs:\n",
    "    print (\"Recommendation for {}\".format(i))\n",
    "    recommendation = get_recommendation(DB, data, i, by = \"syllabus\")\n",
    "    print (\"exporting...\")\n",
    "    recommendation.to_excel(\"output/{}_course_info.xlsx\".format([i.replace(\"/\", \"_\").split(\"(\")[0].strip() if (\"(\") in i else i.replace(\"/\", \"_\")][0]), index=False)"
   ]
  },
  {
   "cell_type": "code",
   "execution_count": null,
   "metadata": {},
   "outputs": [],
   "source": []
  }
 ],
 "metadata": {
  "interpreter": {
   "hash": "92e99e9ff31d2cfcbfd600ac89352e86fcf8d179e88e0d246f283f4f199e33d3"
  },
  "kernelspec": {
   "display_name": "Python 3.9.10 ('airbnb_clone--J-WyGZT')",
   "language": "python",
   "name": "python3"
  },
  "language_info": {
   "codemirror_mode": {
    "name": "ipython",
    "version": 3
   },
   "file_extension": ".py",
   "mimetype": "text/x-python",
   "name": "python",
   "nbconvert_exporter": "python",
   "pygments_lexer": "ipython3",
   "version": "3.9.10"
  },
  "orig_nbformat": 4
 },
 "nbformat": 4,
 "nbformat_minor": 2
}
